{
 "cells": [
  {
   "cell_type": "code",
   "execution_count": 1,
   "metadata": {
    "collapsed": false
   },
   "outputs": [],
   "source": [
    "import numpy as np\n",
    "import pandas as pd\n",
    "import matplotlib\n",
    "matplotlib.use('TkAgg')\n",
    "import matplotlib.pylab as plt\n",
    "%matplotlib inline"
   ]
  },
  {
   "cell_type": "code",
   "execution_count": 46,
   "metadata": {
    "collapsed": false
   },
   "outputs": [],
   "source": [
    "from astroquery.simbad import Simbad\n",
    "from astropy.table import Table, vstack\n",
    "\n",
    "def read_simbad_table(obj_name, **kwargs):\n",
    "    \"\"\"Read in Astroquery results from Simbad given object name (str)\n",
    "    \n",
    "    Parameter\n",
    "    ---------\n",
    "    obj_name : (str or list of str) name(s) of object\n",
    "    \n",
    "    kwargs (optional)\n",
    "    ------\n",
    "    votfields : (list) list of votable field keywords, from http://simbad.u-strasbg.fr/Pages/guide/sim-fscript.htx\n",
    "                default is ['sptype', 'fluxdata(V)', 'velocity', 'distance']\n",
    "    \"\"\"\n",
    "    customSimbad = Simbad()\n",
    "    votfields = kwargs.pop('votfields', ['sptype', 'fluxdata(V)', 'velocity', 'distance'])\n",
    "#    customSimbad.add_votable_fields('sptype')\n",
    "#    customSimbad.add_votable_fields('fluxdata(V)')\n",
    "#    customSimbad.add_votable_fields('velocity')\n",
    "#    customSimbad.add_votable_fields('distance')\n",
    "    for vf in votfields:\n",
    "        customSimbad.add_votable_fields(vf)\n",
    "    if type(obj_name) is str:\n",
    "        result_table = customSimbad.query_object(obj_name)\n",
    "    else:\n",
    "        result_table = customSimbad.query_objects(obj_name)\n",
    "    return result_table\n",
    "\n",
    "TWOPI = 2*np.pi\n",
    "def get_angular_separation(ra1, dec1, ra2, dec2):\n",
    "    \"\"\"Compute the angular separation in radians between 2 objects given positions in degrees.\n",
    "    \n",
    "    Parameters\n",
    "    ----------\n",
    "    ra1: (float) right ascension of object 1 in degrees\n",
    "    dec1: (float) declination of object 1 in degrees\n",
    "    ra2: (float) right ascension of object 2 in degrees\n",
    "    dec2: (float) declination of object 2 in degrees\"\"\"\n",
    "    assert ra1>=0. and ra1<=TWOPI and ra2>=0. and ra2<=TWOPI, \"RA must be in [0, 2pi]: {} {}\".format(ra1, ra2)\n",
    "    assert dec1>=-np.pi/2. and dec1<=np.pi/2. and dec2>=-np.pi/2. and dec2<=np.pi/2., \"DEC must be in [-pi/2, pi/2]: {} {}\".format(dec1, dec2)\n",
    "    cosA = np.sin(dec1)*np.sin(dec2) + np.cos(dec1)*np.cos(dec2)*np.cos(ra1-ra2)\n",
    "    return np.arccos(cosA)"
   ]
  },
  {
   "cell_type": "code",
   "execution_count": 52,
   "metadata": {
    "collapsed": false
   },
   "outputs": [
    {
     "name": "stdout",
     "output_type": "stream",
     "text": [
      "[40693 57757  8102 77760 61317]\n",
      " MAIN_ID        RA           DEC      ... Distance_method   Distance_bibcode \n",
      "             \"h:m:s\"       \"d:m:s\"    ...                                    \n",
      "--------- ------------- ------------- ... --------------- -------------------\n",
      "HD  69830 08 18 23.9469 -12 37 55.810 ...           paral 2018yCat.1345....0G\n",
      "* bet Vir 11 50 41.7182 +01 45 52.991 ...           paral 2018yCat.1345....0G\n",
      "* tau Cet 01 44 04.0834 -15 56 14.926 ...           paral 2018yCat.1345....0G\n",
      "* chi Her 15 52 40.5411 +42 27 05.451 ...           paral 2018yCat.1345....0G\n",
      "* bet CVn 12 33 44.5448 +41 21 26.924 ...           paral 2018yCat.1345....0G\n"
     ]
    }
   ],
   "source": [
    "## read in the biased draw from Aki and make 5 unbiased draws from them\n",
    "Ndraw=5\n",
    "obj_names_all = np.loadtxt('inputs/luvoir-A_stars.txt', usecols=(0,), delimiter=',', skiprows=1).astype(int)\n",
    "obj_names = np.random.choice(obj_names_all, size=Ndraw, replace=False)\n",
    "print(obj_names)\n",
    "\n",
    "## stack each Simbad query results vertically in Astropy Table \n",
    "#result = read_simbad_table(\"Hip\"+str(obj_names[0]))\n",
    "#for ii in range(1,len(obj_names)):\n",
    "#    result = vstack([result, read_simbad_table(\"Hip\"+str(obj_names[ii]))])\n",
    "obj_names = np.core.defchararray.add(\"HIP\", obj_names.astype(str))\n",
    "result = read_simbad_table(obj_names)\n",
    "print(result)"
   ]
  },
  {
   "cell_type": "code",
   "execution_count": 25,
   "metadata": {
    "collapsed": false
   },
   "outputs": [
    {
     "data": {
      "text/html": [
       "&lt;Table masked=True length=5&gt;\n",
       "<table id=\"table4839360912\" class=\"table-striped table-bordered table-condensed\">\n",
       "<thead><tr><th>MAIN_ID</th><th>SP_TYPE</th><th>FLUX_V</th><th>FLUX_ERROR_V</th><th>RVZ_RADVEL</th><th>Distance_distance</th></tr></thead>\n",
       "<thead><tr><th></th><th></th><th>mag</th><th></th><th>km / s</th><th></th></tr></thead>\n",
       "<thead><tr><th>object</th><th>object</th><th>float32</th><th>float32</th><th>float64</th><th>float64</th></tr></thead>\n",
       "<tr><td>HD 191408</td><td>K2.5V</td><td>5.32</td><td>0.000</td><td>-129.300</td><td>6.0159</td></tr>\n",
       "<tr><td>*  61 UMa</td><td>G8V</td><td>5.34</td><td>--</td><td>-5.180</td><td>9.5794</td></tr>\n",
       "<tr><td>HD 152391</td><td>G8.5Vk:</td><td>6.64</td><td>--</td><td>45.090</td><td>16.7959</td></tr>\n",
       "<tr><td>* iot Per</td><td>G0V</td><td>4.05</td><td>0.050</td><td>49.220</td><td>10.5088</td></tr>\n",
       "<tr><td>* b Aql</td><td>G7IVHdel1</td><td>5.16</td><td>--</td><td>-100.250</td><td>14.9593</td></tr>\n",
       "</table>"
      ],
      "text/plain": [
       "<Table masked=True length=5>\n",
       " MAIN_ID   SP_TYPE   FLUX_V FLUX_ERROR_V RVZ_RADVEL Distance_distance\n",
       "                      mag                  km / s                    \n",
       "  object    object  float32   float32     float64        float64     \n",
       "--------- --------- ------- ------------ ---------- -----------------\n",
       "HD 191408     K2.5V    5.32        0.000   -129.300            6.0159\n",
       "*  61 UMa       G8V    5.34           --     -5.180            9.5794\n",
       "HD 152391   G8.5Vk:    6.64           --     45.090           16.7959\n",
       "* iot Per       G0V    4.05        0.050     49.220           10.5088\n",
       "  * b Aql G7IVHdel1    5.16           --   -100.250           14.9593"
      ]
     },
     "execution_count": 25,
     "metadata": {},
     "output_type": "execute_result"
    }
   ],
   "source": [
    "result['MAIN_ID', 'SP_TYPE', 'FLUX_V', 'FLUX_ERROR_V', 'RVZ_RADVEL', 'Distance_distance']"
   ]
  },
  {
   "cell_type": "code",
   "execution_count": 53,
   "metadata": {
    "collapsed": false
   },
   "outputs": [],
   "source": [
    "## convert the Simbad RA/DEC from hh.mm.ss to degrees\n",
    "from astropy import units as u\n",
    "from astropy.coordinates import SkyCoord\n",
    "\n",
    "c = SkyCoord(result['RA'], result['DEC'], unit=(u.hourangle, u.deg))"
   ]
  },
  {
   "cell_type": "code",
   "execution_count": 54,
   "metadata": {
    "collapsed": false
   },
   "outputs": [
    {
     "name": "stdout",
     "output_type": "stream",
     "text": [
      "Ang sep [deg] btw. HIP40693 and HIP57757 = 54.6037919087\n",
      "Ang sep [deg] btw. HIP57757 and HIP8102 = 148.687366256\n",
      "Ang sep [deg] btw. HIP8102 and HIP77760 = 141.814945597\n",
      "Ang sep [deg] btw. HIP77760 and HIP61317 = 36.4906974073\n"
     ]
    }
   ],
   "source": [
    "angular_separations = []\n",
    "for ii in range(len(obj_names)-1):\n",
    "    angsep = get_angular_separation(c.ra[ii].radian, c.dec[ii].radian, \n",
    "                                    c.ra[ii+1].radian, c.dec[ii+1].radian) * 180/np.pi\n",
    "    angular_separations.append(angsep)\n",
    "    print(\"Ang sep [deg] btw. {} and {} = {}\".format(obj_names[ii], obj_names[ii+1], \n",
    "                                           angsep))"
   ]
  },
  {
   "cell_type": "code",
   "execution_count": 66,
   "metadata": {
    "collapsed": true
   },
   "outputs": [],
   "source": [
    "# to compute the slew time need to know how the instrument will slew:\n",
    "# take shortest path vs. along 1 axis then another...?\n",
    "\n",
    "def get_slew_times(sep, vel=10.):\n",
    "    return"
   ]
  },
  {
   "cell_type": "code",
   "execution_count": null,
   "metadata": {
    "collapsed": true
   },
   "outputs": [],
   "source": [
    "# fn to compute the astrometric (proper motion + parallax) signal given a set of parameters\n",
    "\n",
    "# fn to parse the set of parameters for fiducial targets\n",
    "\n",
    "# fn to compute the integration time/epochs needed for astrometric signal\n",
    "\n",
    "# fn to compute slew time\n",
    "\n",
    "# fn to minimize slew time\n",
    "\n"
   ]
  },
  {
   "cell_type": "code",
   "execution_count": null,
   "metadata": {
    "collapsed": true
   },
   "outputs": [],
   "source": []
  }
 ],
 "metadata": {
  "kernelspec": {
   "display_name": "Python 2",
   "language": "python",
   "name": "python2"
  },
  "language_info": {
   "codemirror_mode": {
    "name": "ipython",
    "version": 2
   },
   "file_extension": ".py",
   "mimetype": "text/x-python",
   "name": "python",
   "nbconvert_exporter": "python",
   "pygments_lexer": "ipython2",
   "version": "2.7.11"
  }
 },
 "nbformat": 4,
 "nbformat_minor": 0
}
