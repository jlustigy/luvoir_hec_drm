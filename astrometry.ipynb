{
 "cells": [
  {
   "cell_type": "code",
   "execution_count": 8,
   "metadata": {
    "collapsed": false
   },
   "outputs": [],
   "source": [
    "import numpy as np\n",
    "import pandas as pd\n",
    "import matplotlib\n",
    "matplotlib.use('TkAgg')\n",
    "import matplotlib.pylab as plt\n",
    "%matplotlib inline"
   ]
  },
  {
   "cell_type": "code",
   "execution_count": 62,
   "metadata": {
    "collapsed": false
   },
   "outputs": [],
   "source": [
    "from astroquery.simbad import Simbad\n",
    "from astropy.table import Table, vstack\n",
    "\n",
    "def read_simbad_table(obj_name):\n",
    "    \"\"\"Read in Astroquery results from Simbad given object name (str)\"\"\"\n",
    "    result_table = Simbad.query_object(obj_name)\n",
    "    return result_table\n",
    "\n",
    "TWOPI = 2*np.pi\n",
    "def get_angular_separation(ra1, dec1, ra2, dec2):\n",
    "    \"\"\"Compute the angular separation in radians between 2 objects given positions in degrees.\n",
    "    \n",
    "    Parameters\n",
    "    ----------\n",
    "    ra1: (float) right ascension of object 1 in degrees\n",
    "    dec1: (float) declination of object 1 in degrees\n",
    "    ra2: (float) right ascension of object 2 in degrees\n",
    "    dec2: (float) declination of object 2 in degrees\"\"\"\n",
    "    assert ra1>=0. and ra1<=TWOPI and ra2>=0. and ra2<=TWOPI, \"RA must be in [0, 2pi]: {} {}\".format(ra1, ra2)\n",
    "    assert dec1>=-np.pi/2. and dec1<=np.pi/2. and dec2>=-np.pi/2. and dec2<=np.pi/2., \"DEC must be in [-pi/2, pi/2]: {} {}\".format(dec1, dec2)\n",
    "    cosA = np.sin(dec1)*np.sin(dec2) + np.cos(dec1)*np.cos(dec2)*np.cos(ra1-ra2)\n",
    "    return np.arccos(cosA)"
   ]
  },
  {
   "cell_type": "code",
   "execution_count": 37,
   "metadata": {
    "collapsed": false
   },
   "outputs": [
    {
     "name": "stdout",
     "output_type": "stream",
     "text": [
      "[ 5862 95447 40693 43726 77760]\n"
     ]
    }
   ],
   "source": [
    "## read in the biased draw from Aki and make 5 unbiased draws from them\n",
    "Ndraw=5\n",
    "obj_names_all = np.loadtxt('inputs/luvoir-A_stars.txt', usecols=(0,), delimiter=',', skiprows=1).astype(int)\n",
    "obj_names = np.random.choice(obj_names_all, size=Ndraw, replace=False)\n",
    "print(obj_names)\n",
    "\n",
    "## stack each Simbad query results vertically in Astropy Table\n",
    "result = read_simbad_table(\"Hip\"+str(obj_names[0]))\n",
    "for ii in range(1,len(obj_names)):\n",
    "    result = vstack([result, read_simbad_table(\"Hip\"+str(obj_names[ii]))])\n",
    "    \n",
    "print(result)"
   ]
  },
  {
   "cell_type": "code",
   "execution_count": 42,
   "metadata": {
    "collapsed": false
   },
   "outputs": [
    {
     "data": {
      "text/plain": [
       "array([ 18.79634375, 291.24250083, 124.59977875, 133.57477875,\n",
       "       238.16892125])"
      ]
     },
     "execution_count": 42,
     "metadata": {},
     "output_type": "execute_result"
    }
   ],
   "source": [
    "## convert the Simbad RA/DEC from hh.mm.ss to degrees\n",
    "from astropy import units as u\n",
    "from astropy.coordinates import SkyCoord\n",
    "\n",
    "c = SkyCoord(result['RA'], result['DEC'], unit=(u.hourangle, u.deg))"
   ]
  },
  {
   "cell_type": "code",
   "execution_count": 65,
   "metadata": {
    "collapsed": false
   },
   "outputs": [
    {
     "name": "stdout",
     "output_type": "stream",
     "text": [
      "Ang sep [deg] btw. HIP 5862 and 95447 = 96.8023853476\n",
      "Ang sep [deg] btw. HIP 95447 and 40693 = 166.932074067\n",
      "Ang sep [deg] btw. HIP 40693 and 43726 = 11.4130083393\n",
      "Ang sep [deg] btw. HIP 43726 and 77760 = 104.418607727\n"
     ]
    }
   ],
   "source": [
    "angular_separations = []\n",
    "for ii in range(len(obj_names)-1):\n",
    "    angsep = get_angular_separation(c.ra[ii].radian, c.dec[ii].radian, \n",
    "                                    c.ra[ii+1].radian, c.dec[ii+1].radian) * 180/np.pi\n",
    "    angular_separations.append(angsep)\n",
    "    print(\"Ang sep [deg] btw. HIP {} and {} = {}\".format(obj_names[ii], obj_names[ii+1], \n",
    "                                           angsep))"
   ]
  },
  {
   "cell_type": "code",
   "execution_count": 66,
   "metadata": {
    "collapsed": true
   },
   "outputs": [],
   "source": [
    "# to compute the slew time need to know how the instrument will slew:\n",
    "# take shortest path vs. along 1 axis then another...?\n",
    "\n",
    "def get_slew_times(sep, vel=10.):\n",
    "    return"
   ]
  },
  {
   "cell_type": "code",
   "execution_count": null,
   "metadata": {
    "collapsed": true
   },
   "outputs": [],
   "source": [
    "# fn to compute the astrometric (proper motion + parallax) signal given a set of parameters\n",
    "\n",
    "# fn to parse the set of parameters for fiducial targets\n",
    "\n",
    "# fn to compute the integration time/epochs needed for astrometric signal\n",
    "\n",
    "# fn to compute slew time\n",
    "\n",
    "# fn to minimize slew time\n",
    "\n"
   ]
  },
  {
   "cell_type": "code",
   "execution_count": null,
   "metadata": {
    "collapsed": true
   },
   "outputs": [],
   "source": []
  }
 ],
 "metadata": {
  "kernelspec": {
   "display_name": "Python 2",
   "language": "python",
   "name": "python2"
  },
  "language_info": {
   "codemirror_mode": {
    "name": "ipython",
    "version": 2
   },
   "file_extension": ".py",
   "mimetype": "text/x-python",
   "name": "python",
   "nbconvert_exporter": "python",
   "pygments_lexer": "ipython2",
   "version": "2.7.11"
  }
 },
 "nbformat": 4,
 "nbformat_minor": 0
}
