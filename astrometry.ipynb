{
 "cells": [
  {
   "cell_type": "code",
   "execution_count": 1,
   "metadata": {
    "collapsed": false
   },
   "outputs": [],
   "source": [
    "import numpy as np\n",
    "import pandas as pd\n",
    "import matplotlib\n",
    "matplotlib.use('TkAgg')\n",
    "import matplotlib.pylab as plt\n",
    "%matplotlib inline"
   ]
  },
  {
   "cell_type": "code",
   "execution_count": 23,
   "metadata": {
    "collapsed": false
   },
   "outputs": [],
   "source": [
    "from astroquery.simbad import Simbad\n",
    "from astropy.table import Table, vstack\n",
    "\n",
    "def read_simbad_table(obj_name, **kwargs):\n",
    "    \"\"\"Read in Astroquery results from Simbad given object name (str)\n",
    "    \n",
    "    Parameter\n",
    "    ---------\n",
    "    obj_name : (str) name of object\n",
    "    \n",
    "    kwargs (optional)\n",
    "    ------\n",
    "    votfields : (list) list of votable field keywords, from http://simbad.u-strasbg.fr/Pages/guide/sim-fscript.htx\n",
    "                default is ['sptype', 'fluxdata(V)', 'velocity', 'distance']\n",
    "    \"\"\"\n",
    "    customSimbad = Simbad()\n",
    "    votfields = kwargs.pop('votfields', ['sptype', 'fluxdata(V)', 'velocity', 'distance'])\n",
    "#    customSimbad.add_votable_fields('sptype')\n",
    "#    customSimbad.add_votable_fields('fluxdata(V)')\n",
    "#    customSimbad.add_votable_fields('velocity')\n",
    "#    customSimbad.add_votable_fields('distance')\n",
    "    for vf in votfields:\n",
    "        customSimbad.add_votable_fields(vf)\n",
    "    result_table = customSimbad.query_object(obj_name)\n",
    "    return result_table\n",
    "\n",
    "TWOPI = 2*np.pi\n",
    "def get_angular_separation(ra1, dec1, ra2, dec2):\n",
    "    \"\"\"Compute the angular separation in radians between 2 objects given positions in degrees.\n",
    "    \n",
    "    Parameters\n",
    "    ----------\n",
    "    ra1: (float) right ascension of object 1 in degrees\n",
    "    dec1: (float) declination of object 1 in degrees\n",
    "    ra2: (float) right ascension of object 2 in degrees\n",
    "    dec2: (float) declination of object 2 in degrees\"\"\"\n",
    "    assert ra1>=0. and ra1<=TWOPI and ra2>=0. and ra2<=TWOPI, \"RA must be in [0, 2pi]: {} {}\".format(ra1, ra2)\n",
    "    assert dec1>=-np.pi/2. and dec1<=np.pi/2. and dec2>=-np.pi/2. and dec2<=np.pi/2., \"DEC must be in [-pi/2, pi/2]: {} {}\".format(dec1, dec2)\n",
    "    cosA = np.sin(dec1)*np.sin(dec2) + np.cos(dec1)*np.cos(dec2)*np.cos(ra1-ra2)\n",
    "    return np.arccos(cosA)"
   ]
  },
  {
   "cell_type": "code",
   "execution_count": null,
   "metadata": {
    "collapsed": false
   },
   "outputs": [
    {
     "name": "stdout",
     "output_type": "stream",
     "text": [
      "[99461 56997 82588 14632 95447]\n"
     ]
    },
    {
     "name": "stderr",
     "output_type": "stream",
     "text": [
      "WARNING: MergeConflictWarning: Cannot merge meta key u'description' types <type 'unicode'> and <type 'unicode'>, choosing description=u'Simbad script executed on 2018.11.28CET23:49:04' [astropy.utils.metadata]\n"
     ]
    }
   ],
   "source": [
    "## read in the biased draw from Aki and make 5 unbiased draws from them\n",
    "Ndraw=5\n",
    "obj_names_all = np.loadtxt('inputs/luvoir-A_stars.txt', usecols=(0,), delimiter=',', skiprows=1).astype(int)\n",
    "obj_names = np.random.choice(obj_names_all, size=Ndraw, replace=False)\n",
    "print(obj_names)\n",
    "\n",
    "## stack each Simbad query results vertically in Astropy Table\n",
    "result = read_simbad_table(\"Hip\"+str(obj_names[0]))\n",
    "for ii in range(1,len(obj_names)):\n",
    "    result = vstack([result, read_simbad_table(\"Hip\"+str(obj_names[ii]))])\n",
    "    \n",
    "print(result)"
   ]
  },
  {
   "cell_type": "code",
   "execution_count": 18,
   "metadata": {
    "collapsed": false
   },
   "outputs": [
    {
     "data": {
      "text/html": [
       "&lt;Table masked=True length=5&gt;\n",
       "<table id=\"table4836213456\" class=\"table-striped table-bordered table-condensed\">\n",
       "<thead><tr><th>MAIN_ID</th><th>SP_TYPE</th><th>FLUX_V</th><th>FLUX_ERROR_V</th><th>RVZ_RADVEL</th><th>Distance_distance</th></tr></thead>\n",
       "<thead><tr><th></th><th></th><th>mag</th><th></th><th>km / s</th><th></th></tr></thead>\n",
       "<thead><tr><th>object</th><th>object</th><th>float32</th><th>float32</th><th>float64</th><th>float64</th></tr></thead>\n",
       "<tr><td>HD  50281</td><td>K3.5V</td><td>6.57</td><td>--</td><td>-6.910</td><td>8.7492</td></tr>\n",
       "<tr><td>*  22 Lyn</td><td>F6V</td><td>5.357</td><td>0.009</td><td>-27.330</td><td>20.3962</td></tr>\n",
       "<tr><td>* zet02 Ret</td><td>G1V</td><td>5.24</td><td>--</td><td>12.010</td><td>12.0464</td></tr>\n",
       "<tr><td>* bet Vir</td><td>F9V</td><td>3.6</td><td>--</td><td>4.710</td><td>11.1203</td></tr>\n",
       "<tr><td>* zet Dor</td><td>F9VFe-0.5</td><td>4.708</td><td>0.009</td><td>-1.150</td><td>11.6247</td></tr>\n",
       "</table>"
      ],
      "text/plain": [
       "<Table masked=True length=5>\n",
       "  MAIN_ID    SP_TYPE   FLUX_V FLUX_ERROR_V RVZ_RADVEL Distance_distance\n",
       "                        mag                  km / s                    \n",
       "   object     object  float32   float32     float64        float64     \n",
       "----------- --------- ------- ------------ ---------- -----------------\n",
       "  HD  50281     K3.5V    6.57           --     -6.910            8.7492\n",
       "  *  22 Lyn       F6V   5.357        0.009    -27.330           20.3962\n",
       "* zet02 Ret       G1V    5.24           --     12.010           12.0464\n",
       "  * bet Vir       F9V     3.6           --      4.710           11.1203\n",
       "  * zet Dor F9VFe-0.5   4.708        0.009     -1.150           11.6247"
      ]
     },
     "execution_count": 18,
     "metadata": {},
     "output_type": "execute_result"
    }
   ],
   "source": [
    "result['MAIN_ID', 'SP_TYPE', 'FLUX_V', 'FLUX_ERROR_V', 'RVZ_RADVEL', 'Distance_distance']"
   ]
  },
  {
   "cell_type": "code",
   "execution_count": 4,
   "metadata": {
    "collapsed": false
   },
   "outputs": [],
   "source": [
    "## convert the Simbad RA/DEC from hh.mm.ss to degrees\n",
    "from astropy import units as u\n",
    "from astropy.coordinates import SkyCoord\n",
    "\n",
    "c = SkyCoord(result['RA'], result['DEC'], unit=(u.hourangle, u.deg))"
   ]
  },
  {
   "cell_type": "code",
   "execution_count": 5,
   "metadata": {
    "collapsed": false
   },
   "outputs": [
    {
     "name": "stdout",
     "output_type": "stream",
     "text": [
      "Ang sep [deg] btw. HIP 77760 and 19335 = 99.4271924513\n",
      "Ang sep [deg] btw. HIP 19335 and 47592 = 99.6220061544\n",
      "Ang sep [deg] btw. HIP 47592 and 43726 = 21.7838760231\n",
      "Ang sep [deg] btw. HIP 43726 and 3093 = 123.337959426\n"
     ]
    }
   ],
   "source": [
    "angular_separations = []\n",
    "for ii in range(len(obj_names)-1):\n",
    "    angsep = get_angular_separation(c.ra[ii].radian, c.dec[ii].radian, \n",
    "                                    c.ra[ii+1].radian, c.dec[ii+1].radian) * 180/np.pi\n",
    "    angular_separations.append(angsep)\n",
    "    print(\"Ang sep [deg] btw. HIP {} and {} = {}\".format(obj_names[ii], obj_names[ii+1], \n",
    "                                           angsep))"
   ]
  },
  {
   "cell_type": "code",
   "execution_count": 66,
   "metadata": {
    "collapsed": true
   },
   "outputs": [],
   "source": [
    "# to compute the slew time need to know how the instrument will slew:\n",
    "# take shortest path vs. along 1 axis then another...?\n",
    "\n",
    "def get_slew_times(sep, vel=10.):\n",
    "    return"
   ]
  },
  {
   "cell_type": "code",
   "execution_count": null,
   "metadata": {
    "collapsed": true
   },
   "outputs": [],
   "source": [
    "# fn to compute the astrometric (proper motion + parallax) signal given a set of parameters\n",
    "\n",
    "# fn to parse the set of parameters for fiducial targets\n",
    "\n",
    "# fn to compute the integration time/epochs needed for astrometric signal\n",
    "\n",
    "# fn to compute slew time\n",
    "\n",
    "# fn to minimize slew time\n",
    "\n"
   ]
  },
  {
   "cell_type": "code",
   "execution_count": 6,
   "metadata": {
    "collapsed": true
   },
   "outputs": [],
   "source": [
    "from astroquery.vizier import Vizier\n",
    "result = Vizier.query_object(\"HIP\"+str(obj_names[0]))"
   ]
  },
  {
   "cell_type": "code",
   "execution_count": 13,
   "metadata": {
    "collapsed": false
   },
   "outputs": [],
   "source": [
    "Simbad.query_objects?"
   ]
  },
  {
   "cell_type": "code",
   "execution_count": 12,
   "metadata": {
    "collapsed": false
   },
   "outputs": [
    {
     "ename": "TypeError",
     "evalue": "cannot concatenate 'str' and 'list' objects",
     "output_type": "error",
     "traceback": [
      "\u001b[0;31m---------------------------------------------------------------------------\u001b[0m",
      "\u001b[0;31mTypeError\u001b[0m                                 Traceback (most recent call last)",
      "\u001b[0;32m<ipython-input-12-9254d41a4975>\u001b[0m in \u001b[0;36m<module>\u001b[0;34m()\u001b[0m\n\u001b[0;32m----> 1\u001b[0;31m \u001b[0;34m\"HIP\"\u001b[0m \u001b[0;34m+\u001b[0m \u001b[0mlist\u001b[0m\u001b[0;34m(\u001b[0m\u001b[0mobj_names\u001b[0m\u001b[0;34m.\u001b[0m\u001b[0mastype\u001b[0m\u001b[0;34m(\u001b[0m\u001b[0mstr\u001b[0m\u001b[0;34m)\u001b[0m\u001b[0;34m)\u001b[0m\u001b[0;34m\u001b[0m\u001b[0m\n\u001b[0m",
      "\u001b[0;31mTypeError\u001b[0m: cannot concatenate 'str' and 'list' objects"
     ]
    }
   ],
   "source": []
  },
  {
   "cell_type": "code",
   "execution_count": null,
   "metadata": {
    "collapsed": true
   },
   "outputs": [],
   "source": []
  }
 ],
 "metadata": {
  "kernelspec": {
   "display_name": "Python 2",
   "language": "python",
   "name": "python2"
  },
  "language_info": {
   "codemirror_mode": {
    "name": "ipython",
    "version": 2
   },
   "file_extension": ".py",
   "mimetype": "text/x-python",
   "name": "python",
   "nbconvert_exporter": "python",
   "pygments_lexer": "ipython2",
   "version": "2.7.11"
  }
 },
 "nbformat": 4,
 "nbformat_minor": 0
}
